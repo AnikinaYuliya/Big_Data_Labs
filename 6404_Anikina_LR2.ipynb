{
  "nbformat": 4,
  "nbformat_minor": 0,
  "metadata": {
    "colab": {
      "provenance": []
    },
    "kernelspec": {
      "name": "python3",
      "display_name": "Python 3"
    },
    "language_info": {
      "name": "python"
    }
  },
  "cells": [
    {
      "cell_type": "code",
      "execution_count": null,
      "metadata": {
        "id": "n5zVnlKibdp4"
      },
      "outputs": [],
      "source": [
        "!apt-get install openjdk-8-jdk-headless -qq > /dev/null\n",
        "!wget -q http://archive.apache.org/dist/spark/spark-3.5.1/spark-3.5.1-bin-hadoop3.tgz\n",
        "!tar xf spark-3.5.1-bin-hadoop3.tgz\n",
        "!pip install -q findspark"
      ]
    },
    {
      "cell_type": "code",
      "source": [
        "import os\n",
        "os.environ[\"JAVA_HOME\"] = \"/usr/lib/jvm/java-8-openjdk-amd64\"\n",
        "os.environ[\"SPARK_HOME\"] = \"/content/spark-3.5.1-bin-hadoop3\""
      ],
      "metadata": {
        "id": "hFqft8I-bkBQ"
      },
      "execution_count": null,
      "outputs": []
    },
    {
      "cell_type": "code",
      "source": [
        "import findspark\n",
        "findspark.init()\n",
        "from pyspark.sql import SparkSession,functions,types,Window\n",
        "spark = SparkSession.builder\\\n",
        "        .master(\"local[*]\")\\\n",
        "        .config(\"spark.jars.packages\", \"com.databricks:spark-xml_2.12:0.14.0\")\\\n",
        "        .getOrCreate()\n",
        "spark"
      ],
      "metadata": {
        "colab": {
          "base_uri": "https://localhost:8080/",
          "height": 219
        },
        "id": "ICilg2a8bz1H",
        "outputId": "d4757062-015a-4102-bb19-c8da8de79a7d"
      },
      "execution_count": null,
      "outputs": [
        {
          "output_type": "execute_result",
          "data": {
            "text/plain": [
              "<pyspark.sql.session.SparkSession at 0x7a98ede4afd0>"
            ],
            "text/html": [
              "\n",
              "            <div>\n",
              "                <p><b>SparkSession - in-memory</b></p>\n",
              "                \n",
              "        <div>\n",
              "            <p><b>SparkContext</b></p>\n",
              "\n",
              "            <p><a href=\"http://9a4798247a8d:4040\">Spark UI</a></p>\n",
              "\n",
              "            <dl>\n",
              "              <dt>Version</dt>\n",
              "                <dd><code>v3.5.1</code></dd>\n",
              "              <dt>Master</dt>\n",
              "                <dd><code>local[*]</code></dd>\n",
              "              <dt>AppName</dt>\n",
              "                <dd><code>pyspark-shell</code></dd>\n",
              "            </dl>\n",
              "        </div>\n",
              "        \n",
              "            </div>\n",
              "        "
            ]
          },
          "metadata": {},
          "execution_count": 3
        }
      ]
    },
    {
      "cell_type": "code",
      "source": [
        "posts_data = spark.read.format('xml').option('rowTag','row').load('posts_sample.xml')"
      ],
      "metadata": {
        "id": "jtFwI8o-cCYM"
      },
      "execution_count": null,
      "outputs": []
    },
    {
      "cell_type": "code",
      "source": [
        "timed_posts=posts_data.filter(functions.year('_CreationDate').between(2010,2020)) #выберем посты из нужного временного промежутка\n",
        "timed_posts.show(5)"
      ],
      "metadata": {
        "colab": {
          "base_uri": "https://localhost:8080/"
        },
        "id": "0wh9zoiwjyka",
        "outputId": "53b58edb-0e55-4811-b386-a7c8ebbd2d46"
      },
      "execution_count": null,
      "outputs": [
        {
          "output_type": "stream",
          "name": "stdout",
          "text": [
            "+-----------------+------------+--------------------+-----------+-------------+-------------------+--------------------+--------------+-------+--------------------+--------------------+----------------------+-----------------+-----------------+------------+---------+-----------+------+-----+------+----------+\n",
            "|_AcceptedAnswerId|_AnswerCount|               _Body|_ClosedDate|_CommentCount|_CommunityOwnedDate|       _CreationDate|_FavoriteCount|    _Id|   _LastActivityDate|       _LastEditDate|_LastEditorDisplayName|_LastEditorUserId|_OwnerDisplayName|_OwnerUserId|_ParentId|_PostTypeId|_Score|_Tags|_Title|_ViewCount|\n",
            "+-----------------+------------+--------------------+-----------+-------------+-------------------+--------------------+--------------+-------+--------------------+--------------------+----------------------+-----------------+-----------------+------------+---------+-----------+------+-----+------+----------+\n",
            "|             NULL|        NULL|<p>No. (And more ...|       NULL|            6|               NULL|2010-09-20 16:18:...|          NULL|3753373|2010-09-20 16:18:...|                NULL|                  NULL|             NULL|             NULL|       10293|  3753364|          2|    13| NULL|  NULL|      NULL|\n",
            "|             NULL|        NULL|<p>I am not aware...|       NULL|            2|               NULL|2010-09-20 18:36:...|          NULL|3754384|2010-09-20 18:43:...|2010-09-20 18:43:...|                  NULL|           140185|             NULL|      140185|  3754279|          2|     2| NULL|  NULL|      NULL|\n",
            "|             NULL|        NULL|<p>If you want a ...|       NULL|            2|               NULL|2010-09-20 19:04:...|          NULL|3754601|2010-09-20 19:04:...|                NULL|                  NULL|             NULL|             NULL|        7280|  3754553|          2|     1| NULL|  NULL|      NULL|\n",
            "|             NULL|        NULL|<p>The very first...|       NULL|            0|               NULL|2010-09-21 02:07:...|          NULL|3756831|2010-09-21 02:07:...|                NULL|                  NULL|             NULL|             NULL|      349130|  3756770|          2|     9| NULL|  NULL|      NULL|\n",
            "|             NULL|        NULL|<p>It seems to me...|       NULL|            3|               NULL|2010-09-21 07:33:...|          NULL|3758183|2010-09-21 07:33:...|                NULL|                  NULL|             NULL|             NULL|       15168|  3754526|          2|     0| NULL|  NULL|      NULL|\n",
            "+-----------------+------------+--------------------+-----------+-------------+-------------------+--------------------+--------------+-------+--------------------+--------------------+----------------------+-----------------+-----------------+------------+---------+-----------+------+-----+------+----------+\n",
            "only showing top 5 rows\n",
            "\n"
          ]
        }
      ]
    },
    {
      "cell_type": "code",
      "source": [
        "languages = spark.read.csv('programming-languages.csv', header=True, sep=\",\")\n",
        "languages.show(5)"
      ],
      "metadata": {
        "colab": {
          "base_uri": "https://localhost:8080/"
        },
        "id": "jEy0523ywSnP",
        "outputId": "8966e1c9-5f27-413f-a567-60b6d6f2b83c"
      },
      "execution_count": null,
      "outputs": [
        {
          "output_type": "stream",
          "name": "stdout",
          "text": [
            "+----------+--------------------+\n",
            "|      name|       wikipedia_url|\n",
            "+----------+--------------------+\n",
            "|   A# .NET|https://en.wikipe...|\n",
            "|A# (Axiom)|https://en.wikipe...|\n",
            "|A-0 System|https://en.wikipe...|\n",
            "|        A+|https://en.wikipe...|\n",
            "|       A++|https://en.wikipe...|\n",
            "+----------+--------------------+\n",
            "only showing top 5 rows\n",
            "\n"
          ]
        }
      ]
    },
    {
      "cell_type": "code",
      "source": [
        "import re\n",
        "import pyspark.sql.types as ptypes\n",
        "\n",
        "def get_language_name(string): #функция для удаления лишней информации из списка языков\n",
        "  return re.sub(r' [\\(\\)–].*','',string)\n",
        "unify_languages=functions.udf(lambda string: get_language_name(string),ptypes.StringType())\n",
        "language_names = [row.name.lower() for row in languages.select(unify_languages(functions.lower(\"name\")).alias(\"name\")).collect()]\n",
        "def get_languages_from_tags(tag_string): #функция получения языков из тегов\n",
        "  if not tag_string: return[]\n",
        "  arr=re.findall(r'<([^<>]*?)>',tag_string)\n",
        "  return [item for item in arr if item in language_names]\n",
        "\n",
        "languages_func=functions.udf(lambda string: get_languages_from_tags(string),ptypes.ArrayType(ptypes.StringType()))\n",
        "rating_data=timed_posts.withColumn('languages',languages_func(timed_posts['_Tags'])).select(functions.year('_CreationDate').alias('year'),'languages')\n",
        "rating_data=rating_data.select('year',functions.explode(rating_data['languages']).alias('language')).groupBy('year','language').count()\n",
        "\n",
        "ws=Window.partitionBy('year').orderBy(functions.desc('count')) #популярность оценивается по количеству постов о языке за год\n",
        "top_result=rating_data.withColumn('place',functions.row_number().over(ws)).filter(functions.col('place')<=10)\n",
        "\n",
        "top_result.show()"
      ],
      "metadata": {
        "colab": {
          "base_uri": "https://localhost:8080/"
        },
        "id": "XY0bfsSiw2eF",
        "outputId": "8f9ed05c-b896-4dff-86ff-89a2600340ac"
      },
      "execution_count": null,
      "outputs": [
        {
          "output_type": "stream",
          "name": "stdout",
          "text": [
            "+----+-----------+-----+-----+\n",
            "|year|   language|count|place|\n",
            "+----+-----------+-----+-----+\n",
            "|2010|         c#|   96|    1|\n",
            "|2010|       java|   52|    2|\n",
            "|2010|        php|   46|    3|\n",
            "|2010| javascript|   44|    4|\n",
            "|2010|        c++|   28|    5|\n",
            "|2010|     python|   26|    6|\n",
            "|2010|objective-c|   23|    7|\n",
            "|2010|          c|   20|    8|\n",
            "|2010|       ruby|   12|    9|\n",
            "|2010|     delphi|    8|   10|\n",
            "|2011|        php|  102|    1|\n",
            "|2011|         c#|  100|    2|\n",
            "|2011|       java|   93|    3|\n",
            "|2011| javascript|   83|    4|\n",
            "|2011|        c++|   42|    5|\n",
            "|2011|     python|   37|    6|\n",
            "|2011|objective-c|   34|    7|\n",
            "|2011|          c|   24|    8|\n",
            "|2011|       ruby|   20|    9|\n",
            "|2011|       perl|    9|   10|\n",
            "+----+-----------+-----+-----+\n",
            "only showing top 20 rows\n",
            "\n"
          ]
        }
      ]
    },
    {
      "cell_type": "code",
      "source": [
        "top_result.write.parquet('languages_top10.parquet')"
      ],
      "metadata": {
        "id": "DW8Y26II2vhs"
      },
      "execution_count": null,
      "outputs": []
    },
    {
      "cell_type": "code",
      "source": [
        "read_parquet = spark.read.parquet(\"languages_top10.parquet\")\n",
        "\n",
        "for year in range(2010, 2021):\n",
        "  read_parquet.filter(functions.col(\"year\") == year).orderBy(functions.col(\"count\").desc()).show(truncate=False)"
      ],
      "metadata": {
        "colab": {
          "base_uri": "https://localhost:8080/"
        },
        "id": "Vu7xNjey342M",
        "outputId": "0f329438-5247-481f-dd3a-6480cb3a1342"
      },
      "execution_count": null,
      "outputs": [
        {
          "output_type": "stream",
          "name": "stdout",
          "text": [
            "+----+-----------+-----+-----+\n",
            "|year|language   |count|place|\n",
            "+----+-----------+-----+-----+\n",
            "|2010|c#         |96   |1    |\n",
            "|2010|java       |52   |2    |\n",
            "|2010|php        |46   |3    |\n",
            "|2010|javascript |44   |4    |\n",
            "|2010|c++        |28   |5    |\n",
            "|2010|python     |26   |6    |\n",
            "|2010|objective-c|23   |7    |\n",
            "|2010|c          |20   |8    |\n",
            "|2010|ruby       |12   |9    |\n",
            "|2010|delphi     |8    |10   |\n",
            "+----+-----------+-----+-----+\n",
            "\n",
            "+----+-----------+-----+-----+\n",
            "|year|language   |count|place|\n",
            "+----+-----------+-----+-----+\n",
            "|2011|php        |102  |1    |\n",
            "|2011|c#         |100  |2    |\n",
            "|2011|java       |93   |3    |\n",
            "|2011|javascript |83   |4    |\n",
            "|2011|c++        |42   |5    |\n",
            "|2011|python     |37   |6    |\n",
            "|2011|objective-c|34   |7    |\n",
            "|2011|c          |24   |8    |\n",
            "|2011|ruby       |20   |9    |\n",
            "|2011|perl       |9    |10   |\n",
            "+----+-----------+-----+-----+\n",
            "\n",
            "+----+-----------+-----+-----+\n",
            "|year|language   |count|place|\n",
            "+----+-----------+-----+-----+\n",
            "|2012|php        |154  |1    |\n",
            "|2012|c#         |138  |2    |\n",
            "|2012|javascript |132  |3    |\n",
            "|2012|java       |124  |4    |\n",
            "|2012|c++        |81   |5    |\n",
            "|2012|python     |69   |6    |\n",
            "|2012|objective-c|45   |7    |\n",
            "|2012|ruby       |27   |8    |\n",
            "|2012|c          |27   |9    |\n",
            "|2012|bash       |10   |10   |\n",
            "+----+-----------+-----+-----+\n",
            "\n",
            "+----+-----------+-----+-----+\n",
            "|year|language   |count|place|\n",
            "+----+-----------+-----+-----+\n",
            "|2013|php        |198  |1    |\n",
            "|2013|javascript |198  |2    |\n",
            "|2013|java       |194  |3    |\n",
            "|2013|c#         |172  |4    |\n",
            "|2013|python     |90   |5    |\n",
            "|2013|c++        |71   |6    |\n",
            "|2013|objective-c|40   |7    |\n",
            "|2013|c          |36   |8    |\n",
            "|2013|ruby       |32   |9    |\n",
            "|2013|r          |26   |10   |\n",
            "+----+-----------+-----+-----+\n",
            "\n",
            "+----+-----------+-----+-----+\n",
            "|year|language   |count|place|\n",
            "+----+-----------+-----+-----+\n",
            "|2014|javascript |239  |1    |\n",
            "|2014|java       |228  |2    |\n",
            "|2014|c#         |183  |3    |\n",
            "|2014|php        |167  |4    |\n",
            "|2014|python     |109  |5    |\n",
            "|2014|c++        |77   |6    |\n",
            "|2014|objective-c|52   |7    |\n",
            "|2014|c          |52   |8    |\n",
            "|2014|r          |28   |9    |\n",
            "|2014|ruby       |24   |10   |\n",
            "+----+-----------+-----+-----+\n",
            "\n",
            "+----+-----------+-----+-----+\n",
            "|year|language   |count|place|\n",
            "+----+-----------+-----+-----+\n",
            "|2015|javascript |277  |1    |\n",
            "|2015|java       |209  |2    |\n",
            "|2015|php        |167  |3    |\n",
            "|2015|c#         |155  |4    |\n",
            "|2015|python     |121  |5    |\n",
            "|2015|c++        |86   |6    |\n",
            "|2015|swift      |57   |7    |\n",
            "|2015|r          |43   |8    |\n",
            "|2015|c          |38   |9    |\n",
            "|2015|objective-c|30   |10   |\n",
            "+----+-----------+-----+-----+\n",
            "\n",
            "+----+----------+-----+-----+\n",
            "|year|language  |count|place|\n",
            "+----+----------+-----+-----+\n",
            "|2016|javascript|278  |1    |\n",
            "|2016|java      |184  |2    |\n",
            "|2016|php       |155  |3    |\n",
            "|2016|python    |146  |4    |\n",
            "|2016|c#        |136  |5    |\n",
            "|2016|c++       |72   |6    |\n",
            "|2016|r         |52   |7    |\n",
            "|2016|swift     |52   |8    |\n",
            "|2016|c         |32   |9    |\n",
            "|2016|ruby      |24   |10   |\n",
            "+----+----------+-----+-----+\n",
            "\n",
            "+----+----------+-----+-----+\n",
            "|year|language  |count|place|\n",
            "+----+----------+-----+-----+\n",
            "|2017|javascript|246  |1    |\n",
            "|2017|java      |204  |2    |\n",
            "|2017|python    |193  |3    |\n",
            "|2017|php       |138  |4    |\n",
            "|2017|c#        |127  |5    |\n",
            "|2017|c++       |72   |6    |\n",
            "|2017|r         |56   |7    |\n",
            "|2017|swift     |28   |8    |\n",
            "|2017|c         |25   |9    |\n",
            "|2017|typescript|20   |10   |\n",
            "+----+----------+-----+-----+\n",
            "\n",
            "+----+----------+-----+-----+\n",
            "|year|language  |count|place|\n",
            "+----+----------+-----+-----+\n",
            "|2018|python    |220  |1    |\n",
            "|2018|javascript|198  |2    |\n",
            "|2018|java      |146  |3    |\n",
            "|2018|c#        |116  |4    |\n",
            "|2018|php       |111  |5    |\n",
            "|2018|r         |66   |6    |\n",
            "|2018|c++       |53   |7    |\n",
            "|2018|swift     |39   |8    |\n",
            "|2018|typescript|27   |9    |\n",
            "|2018|c         |24   |10   |\n",
            "+----+----------+-----+-----+\n",
            "\n",
            "+----+----------+-----+-----+\n",
            "|year|language  |count|place|\n",
            "+----+----------+-----+-----+\n",
            "|2019|python    |166  |1    |\n",
            "|2019|javascript|135  |2    |\n",
            "|2019|java      |95   |3    |\n",
            "|2019|c#        |73   |4    |\n",
            "|2019|php       |65   |5    |\n",
            "|2019|r         |37   |6    |\n",
            "|2019|c++       |34   |7    |\n",
            "|2019|swift     |24   |8    |\n",
            "|2019|typescript|17   |9    |\n",
            "|2019|c         |14   |10   |\n",
            "+----+----------+-----+-----+\n",
            "\n",
            "+----+--------+-----+-----+\n",
            "|year|language|count|place|\n",
            "+----+--------+-----+-----+\n",
            "+----+--------+-----+-----+\n",
            "\n"
          ]
        }
      ]
    }
  ]
}