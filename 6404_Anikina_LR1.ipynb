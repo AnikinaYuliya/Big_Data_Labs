{
  "nbformat": 4,
  "nbformat_minor": 0,
  "metadata": {
    "colab": {
      "provenance": []
    },
    "kernelspec": {
      "name": "python3",
      "display_name": "Python 3"
    },
    "language_info": {
      "name": "python"
    }
  },
  "cells": [
    {
      "cell_type": "code",
      "execution_count": null,
      "metadata": {
        "id": "54nv0vK7t05K"
      },
      "outputs": [],
      "source": [
        "!apt-get install openjdk-8-jdk-headless -qq > /dev/null\n",
        "!wget -q http://archive.apache.org/dist/spark/spark-3.5.1/spark-3.5.1-bin-hadoop3.tgz\n",
        "!tar xf spark-3.5.1-bin-hadoop3.tgz\n",
        "!pip install -q findspark"
      ]
    },
    {
      "cell_type": "code",
      "source": [
        "import os\n",
        "os.environ[\"JAVA_HOME\"] = \"/usr/lib/jvm/java-8-openjdk-amd64\"\n",
        "os.environ[\"SPARK_HOME\"] = \"/content/spark-3.5.1-bin-hadoop3\""
      ],
      "metadata": {
        "id": "QqWzlt8uuXFo"
      },
      "execution_count": null,
      "outputs": []
    },
    {
      "cell_type": "code",
      "source": [
        "import findspark\n",
        "findspark.init()\n",
        "from pyspark.sql import SparkSession,functions\n",
        "spark = SparkSession.builder.master(\"local[*]\").getOrCreate()\n",
        "spark.conf.set(\"spark.sql.repl.eagerEval.enabled\", True) # Property used to format output tables better\n",
        "spark"
      ],
      "metadata": {
        "colab": {
          "base_uri": "https://localhost:8080/",
          "height": 219
        },
        "id": "PVuzL_f_uYhc",
        "outputId": "59b6f0be-b092-410b-9172-151eba6690b1"
      },
      "execution_count": null,
      "outputs": [
        {
          "output_type": "execute_result",
          "data": {
            "text/plain": [
              "<pyspark.sql.session.SparkSession at 0x7c3ffae5ed90>"
            ],
            "text/html": [
              "\n",
              "            <div>\n",
              "                <p><b>SparkSession - in-memory</b></p>\n",
              "                \n",
              "        <div>\n",
              "            <p><b>SparkContext</b></p>\n",
              "\n",
              "            <p><a href=\"http://3461420d4e4d:4040\">Spark UI</a></p>\n",
              "\n",
              "            <dl>\n",
              "              <dt>Version</dt>\n",
              "                <dd><code>v3.5.1</code></dd>\n",
              "              <dt>Master</dt>\n",
              "                <dd><code>local[*]</code></dd>\n",
              "              <dt>AppName</dt>\n",
              "                <dd><code>pyspark-shell</code></dd>\n",
              "            </dl>\n",
              "        </div>\n",
              "        \n",
              "            </div>\n",
              "        "
            ]
          },
          "metadata": {},
          "execution_count": 3
        }
      ]
    },
    {
      "cell_type": "code",
      "source": [
        "trips = spark.read.option(\"timestampFormat\", 'M/d/y hh:mm').csv('trips.csv', header=True, sep=\",\")\n",
        "trips.show(5)\n",
        "stations = spark.read.option(\"timestampFormat\", 'M/d/y hh:mm').csv('stations.csv', header=True, sep=\",\")\n",
        "stations.show(5)"
      ],
      "metadata": {
        "colab": {
          "base_uri": "https://localhost:8080/"
        },
        "id": "dUFKC3D2wwAc",
        "outputId": "a3bbb40d-bbe9-4f37-f9f1-061bb6f42e7d"
      },
      "execution_count": null,
      "outputs": [
        {
          "output_type": "stream",
          "name": "stdout",
          "text": [
            "+----+--------+---------------+--------------------+----------------+---------------+--------------------+--------------+-------+-----------------+--------+\n",
            "|  id|duration|     start_date|  start_station_name|start_station_id|       end_date|    end_station_name|end_station_id|bike_id|subscription_type|zip_code|\n",
            "+----+--------+---------------+--------------------+----------------+---------------+--------------------+--------------+-------+-----------------+--------+\n",
            "|4576|      63|           NULL|South Van Ness at...|              66|8/29/2013 14:14|South Van Ness at...|            66|    520|       Subscriber|   94127|\n",
            "|4607|    NULL|8/29/2013 14:42|  San Jose City Hall|              10|8/29/2013 14:43|  San Jose City Hall|            10|    661|       Subscriber|   95138|\n",
            "|4130|      71|8/29/2013 10:16|Mountain View Cit...|              27|8/29/2013 10:17|Mountain View Cit...|            27|     48|       Subscriber|   97214|\n",
            "|4251|      77|8/29/2013 11:29|  San Jose City Hall|              10|8/29/2013 11:30|  San Jose City Hall|            10|     26|       Subscriber|   95060|\n",
            "|4299|      83|8/29/2013 12:02|South Van Ness at...|              66|8/29/2013 12:04|      Market at 10th|            67|    319|       Subscriber|   94103|\n",
            "+----+--------+---------------+--------------------+----------------+---------------+--------------------+--------------+-------+-----------------+--------+\n",
            "only showing top 5 rows\n",
            "\n",
            "+---+--------------------+------------------+-------------------+----------+--------+-----------------+\n",
            "| id|                name|               lat|               long|dock_count|    city|installation_date|\n",
            "+---+--------------------+------------------+-------------------+----------+--------+-----------------+\n",
            "|  2|San Jose Diridon ...|         37.329732|-121.90178200000001|        27|San Jose|         8/6/2013|\n",
            "|  3|San Jose Civic Ce...|         37.330698|        -121.888979|        15|San Jose|         8/5/2013|\n",
            "|  4|Santa Clara at Al...|         37.333988|        -121.894902|        11|San Jose|         8/6/2013|\n",
            "|  5|    Adobe on Almaden|         37.331415|          -121.8932|        19|San Jose|         8/5/2013|\n",
            "|  6|    San Pedro Square|37.336721000000004|        -121.894074|        15|San Jose|         8/7/2013|\n",
            "+---+--------------------+------------------+-------------------+----------+--------+-----------------+\n",
            "only showing top 5 rows\n",
            "\n"
          ]
        }
      ]
    },
    {
      "cell_type": "code",
      "source": [
        "import pyspark.sql as psql"
      ],
      "metadata": {
        "id": "nVrAXa9yxd2Z"
      },
      "execution_count": null,
      "outputs": []
    },
    {
      "cell_type": "markdown",
      "source": [
        "Найти велосипед с максимальным временем пробега."
      ],
      "metadata": {
        "id": "dZNkdWB0xjc1"
      }
    },
    {
      "cell_type": "code",
      "source": [
        "most_rided_bike=trips.groupBy('bike_id').agg({'duration':'sum'}).orderBy('sum(duration)',ascending=False).first()\n",
        "print(f\"Номер велосипеда с наибольшим временем пробега: {most_rided_bike['bike_id']}. Общее время пробега: {most_rided_bike['sum(duration)']} секунд\")"
      ],
      "metadata": {
        "colab": {
          "base_uri": "https://localhost:8080/"
        },
        "id": "ym2UB5xBxin-",
        "outputId": "47497c95-122d-43ae-c5d5-3f6f9447f96a"
      },
      "execution_count": null,
      "outputs": [
        {
          "output_type": "stream",
          "name": "stdout",
          "text": [
            "Номер велосипеда с наибольшим временем пробега: 535. Общее время пробега: 18611693.0 секунд\n"
          ]
        }
      ]
    },
    {
      "cell_type": "markdown",
      "source": [
        "Найти наибольшее геодезическое расстояние между станциями."
      ],
      "metadata": {
        "id": "tp_nDrK04ftx"
      }
    },
    {
      "cell_type": "code",
      "source": [
        "from geopy.distance import distance #функция для вычисления геодезического расстояния\n",
        "\n",
        "dist_func=functions.udf(lambda lat1,long1,lat2,long2: distance((lat1,long1),(lat2,long2)).km,psql.types.DoubleType())\n",
        "max_dist=stations.alias('station1').join(stations.alias('station2'),\\\n",
        "functions.col('station1.name')!=functions.col('station2.name'),'inner').withColumn('distance',\\\n",
        "dist_func(functions.col('station1.lat'),functions.col('station1.long'),functions.col('station2.lat'),functions.col('station2.long'))).orderBy('distance',ascending=False).first()\n",
        "print(f\"Наибольшее расстояние составляет {max_dist['distance']} километров\")\n"
      ],
      "metadata": {
        "colab": {
          "base_uri": "https://localhost:8080/"
        },
        "id": "KTbcVbTp4g_z",
        "outputId": "13b93fa2-75fe-4f87-925c-65cc545bd775"
      },
      "execution_count": null,
      "outputs": [
        {
          "output_type": "stream",
          "name": "stdout",
          "text": [
            "Наибольшее расстояние составляет 69.92096757764355 километров\n"
          ]
        }
      ]
    },
    {
      "cell_type": "markdown",
      "source": [
        "Найти путь велосипеда с максимальным временем пробега через станции."
      ],
      "metadata": {
        "id": "CfnKaipwGL9b"
      }
    },
    {
      "cell_type": "code",
      "source": [
        "most_rided_bike=trips.groupBy('bike_id').agg({'duration':'sum'}).orderBy('sum(duration)',ascending=False).first()['bike_id']\n",
        "print(f'Путь велосипеда с максимальным временем пробега (номер {most_rided_bike}):')\n",
        "bike_trips=trips.filter(psql.functions.col('bike_id')==most_rided_bike)\n",
        "\n",
        "sorted_stations=bike_trips.orderBy(functions.to_timestamp(bike_trips['start_date'],'M/d/yyyy H:mm')).select('start_station_id','start_station_name','end_station_id','end_station_name')\n",
        "sorted_stations.show()"
      ],
      "metadata": {
        "colab": {
          "base_uri": "https://localhost:8080/"
        },
        "id": "LTcR5wIH_1hq",
        "outputId": "53ac1ac9-d029-40a3-d063-01b6b40a4485"
      },
      "execution_count": null,
      "outputs": [
        {
          "output_type": "stream",
          "name": "stdout",
          "text": [
            "Путь велосипеда с максимальным временем пробега (номер 535):\n",
            "+----------------+--------------------+--------------+--------------------+\n",
            "|start_station_id|  start_station_name|end_station_id|    end_station_name|\n",
            "+----------------+--------------------+--------------+--------------------+\n",
            "|              47|     Post at Kearney|            70|San Francisco Cal...|\n",
            "|              70|San Francisco Cal...|            69|San Francisco Cal...|\n",
            "|              69|San Francisco Cal...|            77|   Market at Sansome|\n",
            "|              77|   Market at Sansome|            64|   2nd at South Park|\n",
            "|              61|     2nd at Townsend|            42|    Davis at Jackson|\n",
            "|              58|San Francisco Cit...|            72|Civic Center BART...|\n",
            "|              72|Civic Center BART...|            47|     Post at Kearney|\n",
            "|              47|     Post at Kearney|            60|Embarcadero at Sa...|\n",
            "|              60|Embarcadero at Sa...|            46|Washington at Kea...|\n",
            "|              46|Washington at Kea...|            77|   Market at Sansome|\n",
            "|              77|   Market at Sansome|            77|   Market at Sansome|\n",
            "|              77|   Market at Sansome|            62|       2nd at Folsom|\n",
            "|              62|       2nd at Folsom|            61|     2nd at Townsend|\n",
            "|              55|Temporary Transba...|            61|     2nd at Townsend|\n",
            "|              61|     2nd at Townsend|            60|Embarcadero at Sa...|\n",
            "|              60|Embarcadero at Sa...|            41|     Clay at Battery|\n",
            "|              41|     Clay at Battery|            50|Harry Bridges Pla...|\n",
            "|              50|Harry Bridges Pla...|            41|     Clay at Battery|\n",
            "|              41|     Clay at Battery|            70|San Francisco Cal...|\n",
            "|              70|San Francisco Cal...|            74|   Steuart at Market|\n",
            "+----------------+--------------------+--------------+--------------------+\n",
            "only showing top 20 rows\n",
            "\n"
          ]
        }
      ]
    },
    {
      "cell_type": "markdown",
      "source": [
        "Найи количество велосипедов в системе"
      ],
      "metadata": {
        "id": "hSr2quG0R5BJ"
      }
    },
    {
      "cell_type": "code",
      "source": [
        "bikes_count=trips.select(['bike_id']).distinct().count()\n",
        "print(f'В системе {bikes_count} велосипедов')"
      ],
      "metadata": {
        "colab": {
          "base_uri": "https://localhost:8080/"
        },
        "id": "bcdA-CENR9p5",
        "outputId": "d7684d34-dad7-4bc9-cd71-8f3ed1fdb1eb"
      },
      "execution_count": null,
      "outputs": [
        {
          "output_type": "stream",
          "name": "stdout",
          "text": [
            "В системе 700 велосипедов\n"
          ]
        }
      ]
    },
    {
      "cell_type": "markdown",
      "source": [
        "Найти пользователей потративших на поездки более 3 часов."
      ],
      "metadata": {
        "id": "5m5-pAxlSXHI"
      }
    },
    {
      "cell_type": "code",
      "source": [
        "riders_data=trips.groupBy('zip_code').agg({'duration':'sum'})\n",
        "riders_data=riders_data.withColumn('duration_in_hours',riders_data['sum(duration)']/3600).select('zip_code','duration_in_hours')\n",
        "long_riders=riders_data.filter(riders_data['duration_in_hours']>3)\n",
        "long_riders.show(10)"
      ],
      "metadata": {
        "colab": {
          "base_uri": "https://localhost:8080/"
        },
        "id": "qlwFpC-QSYKf",
        "outputId": "ca363ce2-ccb4-4ed7-f70f-8d75d4f340cf"
      },
      "execution_count": null,
      "outputs": [
        {
          "output_type": "stream",
          "name": "stdout",
          "text": [
            "+--------+------------------+\n",
            "|zip_code| duration_in_hours|\n",
            "+--------+------------------+\n",
            "|   94102| 5313.339166666667|\n",
            "|   95134|202.22861111111112|\n",
            "|   84606|26.429166666666667|\n",
            "|   80305|50.251666666666665|\n",
            "|   60070| 8.033055555555556|\n",
            "|   95519|            8.4175|\n",
            "|   43085|3.2416666666666667|\n",
            "|   91910|14.024444444444445|\n",
            "|   77339|3.8091666666666666|\n",
            "|   48063|3.8208333333333333|\n",
            "+--------+------------------+\n",
            "only showing top 10 rows\n",
            "\n"
          ]
        }
      ]
    }
  ]
}